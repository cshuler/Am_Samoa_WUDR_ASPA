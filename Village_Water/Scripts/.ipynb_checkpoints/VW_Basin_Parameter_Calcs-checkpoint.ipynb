{
 "cells": [
  {
   "cell_type": "code",
   "execution_count": 28,
   "metadata": {
    "collapsed": true
   },
   "outputs": [],
   "source": [
    "import arcpy\n",
    "arcpy.env.overwriteOutput = True \n",
    "from arcpy.sa import *\n",
    "from arcpy import env\n",
    "\n",
    "import os\n",
    "import pandas as pd\n",
    "import numpy as np\n",
    "import matplotlib.pyplot as plt"
   ]
  },
  {
   "cell_type": "markdown",
   "metadata": {},
   "source": [
    "### Methods\n",
    "- Identified individual villages through the Villages polygon on DoC ArcGIS users group village boundary file. \n",
    "- For each village identified those with both populated areas and a perrenial stream \n",
    "- The actual locations of village water intakes was not known, and this also represents sensitive data as it is the location of a public water source, the locations of village water intakes was inferred by viewing satelite imagry and placing an estimated intake location generally at the point on the stream intersecting the village's development boundary. \n",
    "- Basin characteristic data needed to apply USGS low-flow regression equations was collected through geospatial analysis, specifically: \n",
    "\n",
    "- Intake Altitude was obtained through extracting DEM elevations directly to estimated intake locations\n",
    "- The Basin Area was calculated by modifying a minor-watersheds shapefile obtained from the  DoC ArcGIS users group to only include watershed area above the intake location. An area calculation was preformed on these modified watershed polygons (see Fig x for polygon shapes) \n",
    "- Basin relief was calculated by looping through each villages modified watershed polygon and using these geometries to clip the Tutuila 3m DEM into a basin specific DEM. Maximum and minimul elevations of the basin specific DEM were extracted, then subtracted to obtain the basin relief.  "
   ]
  },
  {
   "cell_type": "code",
   "execution_count": 29,
   "metadata": {
    "collapsed": true
   },
   "outputs": [],
   "source": [
    "# Just make a list of the Village water basin names to loop over \n",
    "\n",
    "# read the shapefile of polygon basin areas and turn to a dataframe to pull out a list of polygons\n",
    "path = os.path.join(\"..\", \"Key_Data\", 'VW_shedminor_Modified_vilageNames_Alts.shp')\n",
    "columns_nams = [field.name for field in arcpy.ListFields(path)]     # List of all col names\n",
    "columns_nams.pop(1)  # remove stupid shape col                           # THe \"Shape\" col will make numpy array to pandas puke\n",
    "temparr = arcpy.da.FeatureClassToNumPyArray(path, columns_nams)     # convert to numpy recarray\n",
    "df = pd.DataFrame(temparr)                                       # Convert to pandas bliss\n",
    "# make the actual list of village names \n",
    "VillageList = list(df['VILLAGE'])"
   ]
  },
  {
   "cell_type": "code",
   "execution_count": 30,
   "metadata": {
    "scrolled": true
   },
   "outputs": [
    {
     "name": "stdout",
     "output_type": "stream",
     "text": [
      "Working on Vatia\n",
      "Working on Tula\n",
      "Working on Onenoa\n",
      "Working on Sailele\n",
      "Working on Masefau\n",
      "Working on Masausi\n",
      "Working on Aoa\n",
      "Working on Alao\n",
      "Working on Afono\n",
      "Working on Aua\n",
      "Working on Pagai\n",
      "Working on Fagaitua\n",
      "Working on Amaua\n",
      "Working on Auasi\n",
      "Working on Auto\n",
      "Working on Alofau\n",
      "Working on Amouli\n",
      "Working on Alega\n",
      "Working on Fagatogo\n",
      "Working on Avaio\n",
      "Working on PagoPago\n",
      "Working on Utulei\n",
      "Working on Laulii\n",
      "Working on Aumi\n",
      "Working on Fagaalu\n",
      "Working on Fagasa\n",
      "Working on Matuu\n",
      "Working on Faganeanea\n",
      "Working on Fagamalo\n",
      "Working on Fagalii\n",
      "Working on Nuuuli\n",
      "Working on Maloata\n",
      "Working on Nuuuli\n",
      "Working on Poloa\n",
      "Working on Amanave\n",
      "Working on Asili\n",
      "Working on Seetaga\n",
      "Working on UtumeaWest\n",
      "Working on Failolo\n",
      "Working on Afao\n",
      "Working on Agugulu\n",
      "Working on Leone\n",
      "Working on Amaluia\n"
     ]
    }
   ],
   "source": [
    "# Run a loop over each village water (VW) basin polygon to create regression equation data \n",
    "\n",
    "Max_List = []\n",
    "Stream_Length_list = []\n",
    "\n",
    "for Vil in VillageList:  \n",
    "    print(\"Working on {}\".format(Vil))\n",
    "    #1)  For each village water (VW) basin polygon Select each and create new polygon shp\n",
    "    out_fc = os.path.join(\"..\", \"results/temps\", Vil)     # Define the output name\n",
    "    where_clause = '\"VILLAGE\" = \\'%s\\'' % Vil             # Select VW basin based on individual name\n",
    "    arcpy.Select_analysis(path, out_fc, where_clause)     # Select unique VW basin poly and export to Individual shapefiles\n",
    "    \n",
    "    #2) Now for each individual VW polygon clip out a raster for just the VW basin \n",
    "    in_raster = os.path.join(\"..\", \"Data\", \"tut_3m_clip1.tif\")\n",
    "    out_raster = os.path.join(\"..\", \"results/temps\", \"{}_r.tif\".format(Vil[:5]))   # Note that using the \n",
    "    in_template_dataset = out_fc+\".shp\"\n",
    "    arcpy.management.Clip(in_raster, \"#\", out_raster, in_template_dataset,  \"ClippingGeometry\") # Do the actual raster clip (Note that I cant get clipping geometry to work, it makes box rasters...)\n",
    "\n",
    "    #3)  Now extract max and min values from these rasters \n",
    "    rast = arcpy.Raster (out_raster)  # define as a raster for arcs stuff\n",
    "    maxim = rast.maximum; Max_List.append(maxim)    # Extract max and min values and save them as a list \n",
    "    \n",
    "    #4)  Clip the streams layer inside each of the village water (VW) basin polygons \n",
    "    InFeatures_Streams = os.path.join(\"..\", \"Data\", 'NHD_streams_2016.shp')\n",
    "    Clip_template_dataset =  in_template_dataset # ( out_fc+\".shp\")\n",
    "    outputshp = os.path.join(\"..\",'results/temps', \"tempshp.shp\") \n",
    "    # Do the clip \n",
    "    arcpy.analysis.Clip(InFeatures_Streams, Clip_template_dataset, outputshp) \n",
    "\n",
    "    # Project it into UTM meters \n",
    "    out_coordinate_system = arcpy.SpatialReference('WGS 1984 UTM Zone  2S')\n",
    "    outputshp_prj = os.path.join(\"..\",'results/temps', \"tempshp_UTM.shp\") \n",
    "    # do the project \n",
    "    arcpy.Project_management(outputshp, outputshp_prj, out_coordinate_system)\n",
    "\n",
    "    # calculate the length of all the stream segments \n",
    "    length_of_segments = [f[0] for f in arcpy.da.SearchCursor(outputshp_prj, 'SHAPE@LENGTH')]\n",
    "    Stream_LengthTotal = sum(length_of_segments)\n",
    "    Stream_Length_list.append(Stream_LengthTotal)\n",
    "    \n",
    "# Note I had to modify the village water (VW) basin polygon to remove spaces from the village names...    "
   ]
  },
  {
   "cell_type": "code",
   "execution_count": 51,
   "metadata": {},
   "outputs": [],
   "source": [
    "# Calculate basin parameters, merge dataframes, and consolidate data into one frame\n",
    "\n",
    "altframe = pd.DataFrame({\"VILLAGE\":VillageList, \"MaxAlt_M\":Max_List, \"Stream_Length_m\":Stream_Length_list})  # create frame for the max altitudes\n",
    "df2 = df.merge(altframe, on=\"VILLAGE\", how='left')  # merge with the existing frame \n",
    "\n",
    "df2['MaxAlt_ft'] = df2['MaxAlt_M']/.3048                         # create max altitude column \n",
    "df2[\"Basin_relief_ft\"] =  df2[\"MaxAlt_ft\"] - df2[\"G_alt_ft\"]     # create Basin relief column \n",
    "\n",
    "df2['Stream_Length_miles'] = df2['Stream_Length_m']*0.000621371  # create stream length col\n",
    "df2[\"Drainage_density_permi\"] =  df2[\"Stream_Length_miles\"] - df2[\"DArea_sqMi\"]     # create Drainage_density column \n",
    "\n",
    "df2[\"Basin_Slope_ft/mi\"] =  df2[\"Basin_relief_ft\"] - df2[\"Drainage_density_permi\"]     # create Basin relief column "
   ]
  },
  {
   "cell_type": "markdown",
   "metadata": {},
   "source": [
    "### Calculate the Final Flows we want All in CFS I believe. "
   ]
  },
  {
   "cell_type": "code",
   "execution_count": 52,
   "metadata": {},
   "outputs": [],
   "source": [
    "# Calculate the 7Q2: 7-day, 2-year low flow\n",
    "df2[\"7Q2_east\"]  = 0.0000335*(df2[\"DArea_sqMi\"]**0.488)*(df2[\"G_alt_ft\"]**0.244)*(df2[\"Basin_relief_ft\"]**1.16)\n",
    "df2[\"7Q2_west\"]  = 0.00365*(df2[\"DArea_sqMi\"]**0.909)*(df2[\"G_alt_ft\"]**0.110)*(df2[\"Basin_relief_ft\"]**0.594)\n",
    "\n",
    "# Calculate the 7Q10: 7-day, 10-year low flow\n",
    "df2[\"7Q10_east\"]  = 0.00000447*(df2[\"DArea_sqMi\"]**0.488)*(df2[\"G_alt_ft\"]**0.280)*(df2[\"Basin_relief_ft\"]**1.30)\n",
    "df2[\"7Q10_west\"]  = 0.000925*(df2[\"DArea_sqMi\"]**0.922)*(df2[\"G_alt_ft\"]**0.135)*(df2[\"Basin_relief_ft\"]**0.645)\n",
    "\n",
    "# Calculate the Mean: mean flow\n",
    "df2[\"MeanFlow_east\"] = 0.00188*(df2[\"DArea_sqMi\"]**0.474)  *  (df2[\"Basin_relief_ft\"]**0.983)\n",
    "df2[\"MeanFlow_west\"] = 0.0862*(df2[\"DArea_sqMi\"]**0.972)  *  (df2[\"Basin_relief_ft\"]**0.497)\n",
    "\n",
    "# Calculate theMedian: median flow\n",
    "df2[\"MedianFlow_east\"] = 0.000619*(df2[\"DArea_sqMi\"]**0.478)  *  (df2[\"Basin_relief_ft\"]**1.04)\n",
    "df2[\"MedianFlow_west\"] = 0.0464*(df2[\"DArea_sqMi\"]**0.964)  *  (df2[\"Basin_relief_ft\"]**0.510)"
   ]
  },
  {
   "cell_type": "code",
   "execution_count": 70,
   "metadata": {},
   "outputs": [],
   "source": [
    "# Pull apart East to west\n",
    "Eastframe = df2[df2['Region'] == \"East\"]\n",
    "Westframe = df2[df2['Region'] == \"West\"]\n",
    "\n",
    "Westframe_clean = Westframe[[\"VILLAGE\", '7Q2_west', '7Q10_west', 'MeanFlow_west', 'MedianFlow_west']]\n",
    "Eastframe_clean = Eastframe[[\"VILLAGE\", '7Q2_east', '7Q10_east', 'MeanFlow_east', 'MedianFlow_east']]\n",
    "\n",
    "Eastframe_clean.columns = Eastframe_clean.columns.str.rstrip('east')\n",
    "Westframe_clean.columns = Westframe_clean.columns.str.rstrip('west')\n",
    "\n",
    "# Put east and west back together as a clean frame, note all units are in CFS \n",
    "CFS_Frame = pd.concat([Eastframe_clean, Westframe_clean], axis=0)\n",
    "CFS_Frame.to_csv(os.path.join(\"..\", \"results\", \"CFS_Frame.csv\"))"
   ]
  },
  {
   "cell_type": "code",
   "execution_count": null,
   "metadata": {},
   "outputs": [],
   "source": []
  }
 ],
 "metadata": {
  "kernelspec": {
   "display_name": "Python 3",
   "language": "python",
   "name": "python3"
  },
  "language_info": {
   "codemirror_mode": {
    "name": "ipython",
    "version": 3
   },
   "file_extension": ".py",
   "mimetype": "text/x-python",
   "name": "python",
   "nbconvert_exporter": "python",
   "pygments_lexer": "ipython3",
   "version": "3.6.2"
  }
 },
 "nbformat": 4,
 "nbformat_minor": 2
}
